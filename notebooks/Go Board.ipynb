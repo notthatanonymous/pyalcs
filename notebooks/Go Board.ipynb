{
 "cells": [
  {
   "cell_type": "markdown",
   "metadata": {},
   "source": [
    "# Go Board\n",
    "According to [this](http://moderndescartes.com/essays/implementing_go) link."
   ]
  },
  {
   "cell_type": "code",
   "execution_count": 1,
   "metadata": {},
   "outputs": [],
   "source": [
    "import itertools\n",
    "from collections import namedtuple\n",
    "\n",
    "N = 19\n",
    "NN = N * N\n",
    "WHITE, BLACK, EMPTY = 'O', 'X', '.'\n",
    "EMPTY_BOARD = EMPTY * NN\n",
    "\n",
    "def swap_colors(color):\n",
    "    if color == BLACK:\n",
    "        return WHITE\n",
    "    elif color == WHITE:\n",
    "        return BLACK\n",
    "    else:\n",
    "        return color\n",
    "\n",
    "def flatten(c):\n",
    "    return N * c[0] + c[1]\n",
    "\n",
    "# Convention: coords that have been flattened have a \"f\" prefix\n",
    "def unflatten(fc):\n",
    "    return divmod(fc, N)"
   ]
  },
  {
   "cell_type": "markdown",
   "metadata": {},
   "source": [
    "We'll also want an easy way to find all the neighbors of a coordinate. Since this is a frequent computation, we'll just cache the results as a list of length `N * N`."
   ]
  },
  {
   "cell_type": "code",
   "execution_count": 2,
   "metadata": {},
   "outputs": [],
   "source": [
    "def is_on_board(c):\n",
    "    return c[0] % N == c[0] and c[1] % N == c[1]\n",
    "\n",
    "def get_valid_neighbors(fc):\n",
    "    x, y = unflatten(fc)\n",
    "    possible_neighbors = ((x+1, y), (x-1, y), (x, y+1), (x, y-1))\n",
    "    return [flatten(n) for n in possible_neighbors if is_on_board(n)]\n",
    "\n",
    "# Neighbors are indexed by flat coordinates\n",
    "NEIGHBORS = [get_valid_neighbors(fc) for fc in range(NN)]"
   ]
  },
  {
   "cell_type": "markdown",
   "metadata": {},
   "source": [
    "Next, let's define the useful concept of *\"reach\"*, as given in the Tromp-Taylor rules. Reach is essentially the set of points neighboring a chain of stones.\n",
    "\n",
    "Reach is a useful concept in two ways: we want to know if a chain of stones can reach an empty point (the capture rule), and we want to know if a chain of empty spaces reaches black, white, or both colors (for assigning ownership of territory at the end).\n",
    "\n",
    "To deduce the reach of a stone, we use a flood-fill type algorithm to simultaneously discover the entire chain, as well as all of that chain's neighboring colors (the reach). We'll return both the chain and its reach, since both are useful."
   ]
  },
  {
   "cell_type": "code",
   "execution_count": 3,
   "metadata": {},
   "outputs": [],
   "source": [
    "def find_reached(board, fc):\n",
    "    color = board[fc]\n",
    "    chain = set([fc])\n",
    "    reached = set()\n",
    "    frontier = [fc]\n",
    "    while frontier:\n",
    "        current_fc = frontier.pop()\n",
    "        chain.add(current_fc)\n",
    "        for fn in NEIGHBORS[current_fc]:\n",
    "            if board[fn] == color and not fn in chain:\n",
    "                frontier.append(fn)\n",
    "            elif board[fn] != color:\n",
    "                reached.add(fn)\n",
    "    return chain, reached"
   ]
  },
  {
   "cell_type": "markdown",
   "metadata": {},
   "source": [
    "Now, we're ready to implement basic moves! We have to place our stone, and then handle any captures, prioritizing opponent captures over our own."
   ]
  },
  {
   "cell_type": "code",
   "execution_count": 10,
   "metadata": {},
   "outputs": [],
   "source": [
    "class IllegalMove(Exception): pass\n",
    "\n",
    "def place_stone(color, board, fc):\n",
    "    return board[:fc] + color + board[fc+1:]\n",
    "\n",
    "def bulk_place_stones(color, board, stones):\n",
    "    byteboard = bytearray(board, encoding='ascii') # create mutable version of board\n",
    "    color = ord(color)\n",
    "    for fstone in stones:\n",
    "        byteboard[fstone] = color\n",
    "    return byteboard.decode('ascii') # and cast back to string when done\n",
    "\n",
    "def maybe_capture_stones(board, fc):\n",
    "    chain, reached = find_reached(board, fc)\n",
    "    if not any(board[fr] == EMPTY for fr in reached):\n",
    "        board = bulk_place_stones(EMPTY, board, chain)\n",
    "        return board, chain\n",
    "    else:\n",
    "        return board, []"
   ]
  },
  {
   "cell_type": "markdown",
   "metadata": {},
   "source": [
    "But we're not done yet - recall that the ko rule prevents repeating board positions. Let's record a \"ko\" coordinate, which is either a flattened coordinate, or None (indicating that there is no ko to worry about). To bundle these two concepts together, we'll use python's handy namedtuple to define a Position.\n",
    "\n",
    "Detecting kos is surprisingly easy, and is captured in a function `is_koish`. (See full code for details.). A ko occurs if `is_koish` is `True`, and exactly 1 stone has been captured. Now we just have to check that we aren't violating our ko constraint, and set the ko constraint in the returned position"
   ]
  },
  {
   "cell_type": "code",
   "execution_count": 5,
   "metadata": {},
   "outputs": [],
   "source": [
    "def is_koish(board, fc):\n",
    "    'Check if fc is surrounded on all sides by 1 color, and return that color'\n",
    "    if board[fc] != EMPTY: return None\n",
    "    neighbor_colors = {board[fn] for fn in NEIGHBORS[fc]}\n",
    "    if len(neighbor_colors) == 1 and not EMPTY in neighbor_colors:\n",
    "        return list(neighbor_colors)[0]\n",
    "    else:\n",
    "        return None"
   ]
  },
  {
   "cell_type": "code",
   "execution_count": 6,
   "metadata": {},
   "outputs": [],
   "source": [
    "class Position(namedtuple('Position', ['board', 'ko'])):\n",
    "    @staticmethod\n",
    "    def initial_state():\n",
    "        return Position(board=EMPTY_BOARD, ko=None)\n",
    "\n",
    "    def get_board(self):\n",
    "        return self.board\n",
    "\n",
    "    def __str__(self):\n",
    "        import textwrap\n",
    "        return '\\n'.join(textwrap.wrap(self.board, N))\n",
    "    \n",
    "    def play_move(self, fc, color):\n",
    "        board, ko = self\n",
    "        \n",
    "        if fc == ko or board[fc] != EMPTY:\n",
    "            print(self)\n",
    "            raise IllegalMove\n",
    "\n",
    "        possible_ko_color = is_koish(board, fc)\n",
    "        new_board = place_stone(color, board, fc)\n",
    "\n",
    "        opp_color = swap_colors(color)\n",
    "        opp_stones = []\n",
    "        my_stones = []\n",
    "        for fn in NEIGHBORS[fc]:\n",
    "            if new_board[fn] == color:\n",
    "                my_stones.append(fn)\n",
    "            elif new_board[fn] == opp_color:\n",
    "                opp_stones.append(fn)\n",
    "\n",
    "        opp_captured = 0\n",
    "        for fs in opp_stones:\n",
    "            new_board, captured = maybe_capture_stones(new_board, fs)\n",
    "            opp_captured += len(captured)\n",
    "\n",
    "        for fs in my_stones:\n",
    "            new_board, captured = maybe_capture_stones(new_board, fs)\n",
    "\n",
    "        if opp_captured == 1 and possible_ko_color == opp_color:\n",
    "            new_ko = list(opp_captured)[0]\n",
    "        else:\n",
    "            new_ko = None\n",
    "\n",
    "        return Position(new_board, new_ko)\n",
    "\n",
    "    def score(self):\n",
    "        board = self.board\n",
    "        while EMPTY in board:\n",
    "            fempty = board.index(EMPTY)\n",
    "            empties, borders = find_reached(board, fempty)\n",
    "            possible_border_color = board[list(borders)[0]]\n",
    "            if all(board[fb] == possible_border_color for fb in borders):\n",
    "                board = bulk_place_stones(possible_border_color, board, empties)\n",
    "            else:\n",
    "                # if an empty intersection reaches both white and black,\n",
    "                # then it belongs to neither player. \n",
    "                board = bulk_place_stones('?', board, empties)\n",
    "        return board.count(BLACK) - board.count(WHITE)\n",
    "\n",
    "    def get_liberties(self):\n",
    "        board = self.board\n",
    "        liberties = bytearray(NN)\n",
    "        for color in (WHITE, BLACK):\n",
    "            while color in board:\n",
    "                fc = board.index(color)\n",
    "                stones, borders = find_reached(board, fc)\n",
    "                num_libs = len([fb for fb in borders if board[fb] == EMPTY])\n",
    "                for fs in stones:\n",
    "                    liberties[fs] = num_libs\n",
    "                board = bulk_place_stones('?', board, stones)\n",
    "        return list(liberties)"
   ]
  },
  {
   "cell_type": "markdown",
   "metadata": {},
   "source": [
    "Let's try to play"
   ]
  },
  {
   "cell_type": "code",
   "execution_count": 53,
   "metadata": {},
   "outputs": [
    {
     "name": "stdout",
     "output_type": "stream",
     "text": [
      "X.X................\n",
      "XOX................\n",
      "XX.................\n",
      "...................\n",
      ".........O.........\n",
      ".....OOOO.O........\n",
      "......O..O.........\n",
      "...................\n",
      "...................\n",
      "...................\n",
      "..........X.X......\n",
      "...................\n",
      "...................\n",
      "...................\n",
      "...................\n",
      "...................\n",
      "...................\n",
      "...................\n",
      "...................\n",
      "Score: -2\n"
     ]
    }
   ],
   "source": [
    "g = Position \\\n",
    "    .initial_state() \\\n",
    "    .play_move(104, BLACK) \\\n",
    "    .play_move(20, WHITE) \\\n",
    "    .play_move(0, BLACK) \\\n",
    "    .play_move(100, WHITE) \\\n",
    "    .play_move(2, BLACK) \\\n",
    "    .play_move(101, WHITE) \\\n",
    "    .play_move(19, BLACK) \\\n",
    "    .play_move(102, WHITE) \\\n",
    "    .play_move(21, BLACK) \\\n",
    "    .play_move(103, WHITE) \\\n",
    "    .play_move(38, BLACK) \\\n",
    "    .play_move(120, WHITE) \\\n",
    "    .play_move(39, BLACK) \\\n",
    "    .play_move(105, WHITE) \\\n",
    "    .play_move(200, BLACK) \\\n",
    "    .play_move(85, WHITE) \\\n",
    "    .play_move(202, BLACK) \\\n",
    "    .play_move(123, WHITE) \\\n",
    "    \n",
    "print(g)\n",
    "print(\"Score: {}\".format(g.score()))"
   ]
  },
  {
   "cell_type": "code",
   "execution_count": 56,
   "metadata": {},
   "outputs": [
    {
     "data": {
      "text/plain": [
       "'X.X................XOX................XX.............................................O..............OOOO.O..............O..O............................................................................X.X..............................................................................................................................................................'"
      ]
     },
     "execution_count": 56,
     "metadata": {},
     "output_type": "execute_result"
    }
   ],
   "source": [
    "g.get_board()"
   ]
  }
 ],
 "metadata": {
  "kernelspec": {
   "display_name": "Python 3",
   "language": "python",
   "name": "python3"
  },
  "language_info": {
   "codemirror_mode": {
    "name": "ipython",
    "version": 3
   },
   "file_extension": ".py",
   "mimetype": "text/x-python",
   "name": "python",
   "nbconvert_exporter": "python",
   "pygments_lexer": "ipython3",
   "version": "3.6.3"
  }
 },
 "nbformat": 4,
 "nbformat_minor": 2
}
