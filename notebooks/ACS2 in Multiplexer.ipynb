{
 "cells": [
  {
   "cell_type": "markdown",
   "metadata": {},
   "source": [
    "# ACS2 in Multiplexer"
   ]
  },
  {
   "cell_type": "code",
   "execution_count": 6,
   "metadata": {},
   "outputs": [
    {
     "ename": "ModuleNotFoundError",
     "evalue": "No module named 'pyalcs'",
     "output_type": "error",
     "traceback": [
      "\u001b[0;31m---------------------------------------------------------------------------\u001b[0m",
      "\u001b[0;31mModuleNotFoundError\u001b[0m                       Traceback (most recent call last)",
      "\u001b[0;32m<ipython-input-6-270e6acab171>\u001b[0m in \u001b[0;36m<module>\u001b[0;34m()\u001b[0m\n\u001b[1;32m     16\u001b[0m \u001b[0;31m#sys.path.append('/Users/khozzy/Projects/pyalcs')\u001b[0m\u001b[0;34m\u001b[0m\u001b[0;34m\u001b[0m\u001b[0m\n\u001b[1;32m     17\u001b[0m \u001b[0;31m#sys.path.append(\"/Users/khozzy/Projects/openai-envs\")\u001b[0m\u001b[0;34m\u001b[0m\u001b[0;34m\u001b[0m\u001b[0m\n\u001b[0;32m---> 18\u001b[0;31m \u001b[0;32mimport\u001b[0m \u001b[0mpyalcs\u001b[0m\u001b[0;34m\u001b[0m\u001b[0m\n\u001b[0m\u001b[1;32m     19\u001b[0m \u001b[0;34m\u001b[0m\u001b[0m\n\u001b[1;32m     20\u001b[0m \u001b[0;34m\u001b[0m\u001b[0m\n",
      "\u001b[0;31mModuleNotFoundError\u001b[0m: No module named 'pyalcs'"
     ]
    }
   ],
   "source": [
    "%matplotlib inline\n",
    "\n",
    "# General\n",
    "from __future__ import unicode_literals\n",
    "import pickle\n",
    "\n",
    "import numpy as np\n",
    "import pandas as pd\n",
    "\n",
    "# Logger\n",
    "import logging\n",
    "logging.basicConfig(level=logging.WARN)\n",
    "\n",
    "# ALCS + custom environments\n",
    "#import sys\n",
    "#sys.path.append('/Users/khozzy/Projects/pyalcs')\n",
    "#sys.path.append(\"/Users/khozzy/Projects/openai-envs\")\n",
    "import pyalcs\n",
    "\n",
    "\n",
    "# Enable automatic module reload\n",
    "%load_ext autoreload\n",
    "%autoreload 2\n",
    "\n",
    "# Load PyALCS module\n",
    "from alcs import ACS2, ACS2Configuration\n",
    "\n",
    "# Load environments\n",
    "import gym\n",
    "import gym_multiplexer"
   ]
  },
  {
   "cell_type": "markdown",
   "metadata": {},
   "source": [
    "## Multiplexer"
   ]
  },
  {
   "cell_type": "code",
   "execution_count": 4,
   "metadata": {},
   "outputs": [
    {
     "data": {
      "text/plain": [
       "'111010010010011011000'"
      ]
     },
     "execution_count": 4,
     "metadata": {},
     "output_type": "execute_result"
    }
   ],
   "source": [
    "mp = gym.make('boolean-multiplexer-20bit-v0')\n",
    "situation = mp.reset()\n",
    "mp.render()"
   ]
  },
  {
   "cell_type": "code",
   "execution_count": 5,
   "metadata": {},
   "outputs": [
    {
     "name": "stdout",
     "output_type": "stream",
     "text": [
      "New state: 111010010010011011001, reward: 1000, is done: True\n"
     ]
    }
   ],
   "source": [
    "state, reward, done, _ = mp.step(0)\n",
    "\n",
    "print(\"New state: {}, reward: {}, is done: {}\".format(state, reward, done))"
   ]
  },
  {
   "cell_type": "code",
   "execution_count": 4,
   "metadata": {},
   "outputs": [
    {
     "data": {
      "text/plain": [
       "'100011001101100111000'"
      ]
     },
     "execution_count": 4,
     "metadata": {},
     "output_type": "execute_result"
    }
   ],
   "source": [
    "mp.render()"
   ]
  },
  {
   "cell_type": "markdown",
   "metadata": {},
   "source": [
    "### Evaluation\n",
    "Calculate knowledge - check if any of the reliable classifiers gives correct answer."
   ]
  },
  {
   "cell_type": "code",
   "execution_count": 5,
   "metadata": {},
   "outputs": [],
   "source": [
    "from gym_multiplexer.utils import get_correct_answer\n",
    "\n",
    "def evaluate_performance(env, population, ctrl_bits):\n",
    "    p1 = env.render()  # state after executing action\n",
    "    p0 = p1[:-1] + '0'  # initial state\n",
    "    true_action = get_correct_answer(p0, ctrl_bits)\n",
    "    \n",
    "    # get all classifiers matching initial state\n",
    "    matching_cls = {c for c in population if c.condition.does_match(p0)}\n",
    "    best_cl = max(matching_cls, key=lambda cl: cl.q)\n",
    "        \n",
    "    return {'was_correct': best_cl.predicts_successfully(p0, true_action, p1)}"
   ]
  },
  {
   "cell_type": "markdown",
   "metadata": {},
   "source": [
    "## Go agent, go...\n",
    "Perform experiment for a couple of explore/exploit trials."
   ]
  },
  {
   "cell_type": "code",
   "execution_count": 6,
   "metadata": {},
   "outputs": [],
   "source": [
    "def get_6bit_mp_actors():\n",
    "    mp = gym.make('boolean-multiplexer-6bit-v0')\n",
    "    cfg = ACS2Configuration(\n",
    "    mp.env.observation_space.n,\n",
    "    2,\n",
    "    performance_fcn=evaluate_performance,\n",
    "    performance_fcn_params={'ctrl_bits': 2},\n",
    "    do_ga=True)\n",
    "\n",
    "    return ACS2(cfg), mp\n",
    "\n",
    "def get_11bit_mp_actors():\n",
    "    mp = gym.make('boolean-multiplexer-11bit-v0')\n",
    "    cfg = ACS2Configuration(\n",
    "    mp.env.observation_space.n,\n",
    "    2,\n",
    "    performance_fcn=evaluate_performance,\n",
    "    performance_fcn_params={'ctrl_bits': 3},\n",
    "    do_ga=True)\n",
    "\n",
    "    return ACS2(cfg), mp\n",
    "\n",
    "def get_20bit_mp_actors():\n",
    "    mp = gym.make('boolean-multiplexer-20bit-v0')\n",
    "    cfg = ACS2Configuration(\n",
    "    mp.env.observation_space.n,\n",
    "    2,\n",
    "    performance_fcn=evaluate_performance,\n",
    "    performance_fcn_params={'ctrl_bits': 4},\n",
    "    do_ga=True)\n",
    "\n",
    "    return ACS2(cfg), mp"
   ]
  },
  {
   "cell_type": "code",
   "execution_count": 7,
   "metadata": {},
   "outputs": [],
   "source": [
    "def perform_experiment(agent, env, trials=250_000):\n",
    "    population, metrics = agent.explore_exploit(env, trials)\n",
    "    print(\"Population size: {}\".format(metrics[-1]['agent']['population']))\n",
    "    print(\"Reliable size: {}\".format(metrics[-1]['agent']['reliable']))\n",
    "    print(metrics[-1])\n",
    "    \n",
    "    reliable_classifiers = [c for c in population if c.is_reliable()]\n",
    "    reliable_classifiers = sorted(reliable_classifiers, key=lambda cl: -cl.q)\n",
    "\n",
    "    # Print top 20 reliable classifiers\n",
    "    for cl in reliable_classifiers[:20]:\n",
    "        print(f\"{cl}, q: {cl.q:.2f}, exp: {cl.exp:.2f}\")\n",
    "    \n",
    "    return population, metrics"
   ]
  },
  {
   "cell_type": "code",
   "execution_count": 3,
   "metadata": {},
   "outputs": [],
   "source": [
    "# load previously executed experiments instead of performing them\n",
    "m6 = pickle.load(open(\"serialized/mln_trials/metrics_6bit.p\", \"rb\" ))\n",
    "m11 = pickle.load(open(\"serialized/mln_trials/metrics_11bit.p\", \"rb\" ))\n",
    "m20 = pickle.load(open(\"serialized/mln_trials/metrics_20bit.p\", \"rb\" ))\n",
    "m37 = pickle.load(open(\"serialized/mln_trials/metrics_mp37.p\", \"rb\" ))"
   ]
  },
  {
   "cell_type": "code",
   "execution_count": 5,
   "metadata": {},
   "outputs": [
    {
     "data": {
      "text/plain": [
       "[{'agent': {'fitness': 25.2375,\n",
       "   'numerosity': 1,\n",
       "   'population': 1,\n",
       "   'reliable': 0,\n",
       "   'steps': 1,\n",
       "   'total_steps': 1,\n",
       "   'trial': 0},\n",
       "  'environment': None,\n",
       "  'performance': {'was_correct': True}},\n",
       " {'agent': {'fitness': 23.975625,\n",
       "   'numerosity': 1,\n",
       "   'population': 1,\n",
       "   'reliable': 0,\n",
       "   'steps': 1,\n",
       "   'total_steps': 2,\n",
       "   'trial': 1},\n",
       "  'environment': None,\n",
       "  'performance': {'was_correct': False}}]"
      ]
     },
     "execution_count": 5,
     "metadata": {},
     "output_type": "execute_result"
    }
   ],
   "source": [
    "m6[:2]"
   ]
  },
  {
   "cell_type": "code",
   "execution_count": 9,
   "metadata": {},
   "outputs": [],
   "source": [
    "# 6bit\n",
    "# p6, m6 = perform_experiment(*get_6bit_mp_actors())"
   ]
  },
  {
   "cell_type": "code",
   "execution_count": 10,
   "metadata": {
    "scrolled": false
   },
   "outputs": [],
   "source": [
    "# 11bit\n",
    "# p11, m11 = perform_experiment(*get_11bit_mp_actors())"
   ]
  },
  {
   "cell_type": "code",
   "execution_count": 11,
   "metadata": {},
   "outputs": [],
   "source": [
    "# 20bit\n",
    "# p20, m20 = perform_experiment(*get_20bit_mp_actors())"
   ]
  },
  {
   "cell_type": "code",
   "execution_count": 12,
   "metadata": {},
   "outputs": [],
   "source": [
    "#pickle.dump(m20, open(\"serialized/metrics_mp20bit.p\", \"wb\"))"
   ]
  },
  {
   "cell_type": "code",
   "execution_count": 13,
   "metadata": {},
   "outputs": [],
   "source": [
    "def parse_metrics_to_df(metrics):\n",
    "    def extract_details(row):\n",
    "        row['trial'] = row['agent']['trial']\n",
    "        row['numerosity'] = row['agent']['numerosity']\n",
    "        row['reliable'] = row['agent']['reliable']\n",
    "        row['was_correct'] = row['performance']['was_correct']\n",
    "        return row\n",
    "    \n",
    "    df = pd.DataFrame(metrics)\n",
    "    df = df.apply(extract_details, axis=1)\n",
    "    df.drop(['agent', 'environment', 'performance'], axis=1, inplace=True)\n",
    "    df.set_index('trial', inplace=True)\n",
    "    \n",
    "    return df"
   ]
  },
  {
   "cell_type": "code",
   "execution_count": 14,
   "metadata": {},
   "outputs": [
    {
     "data": {
      "text/html": [
       "<div>\n",
       "<style scoped>\n",
       "    .dataframe tbody tr th:only-of-type {\n",
       "        vertical-align: middle;\n",
       "    }\n",
       "\n",
       "    .dataframe tbody tr th {\n",
       "        vertical-align: top;\n",
       "    }\n",
       "\n",
       "    .dataframe thead th {\n",
       "        text-align: right;\n",
       "    }\n",
       "</style>\n",
       "<table border=\"1\" class=\"dataframe\">\n",
       "  <thead>\n",
       "    <tr style=\"text-align: right;\">\n",
       "      <th></th>\n",
       "      <th>numerosity</th>\n",
       "      <th>reliable</th>\n",
       "      <th>was_correct</th>\n",
       "    </tr>\n",
       "    <tr>\n",
       "      <th>trial</th>\n",
       "      <th></th>\n",
       "      <th></th>\n",
       "      <th></th>\n",
       "    </tr>\n",
       "  </thead>\n",
       "  <tbody>\n",
       "    <tr>\n",
       "      <th>0</th>\n",
       "      <td>1</td>\n",
       "      <td>0</td>\n",
       "      <td>True</td>\n",
       "    </tr>\n",
       "    <tr>\n",
       "      <th>1</th>\n",
       "      <td>1</td>\n",
       "      <td>0</td>\n",
       "      <td>False</td>\n",
       "    </tr>\n",
       "    <tr>\n",
       "      <th>2</th>\n",
       "      <td>2</td>\n",
       "      <td>0</td>\n",
       "      <td>False</td>\n",
       "    </tr>\n",
       "    <tr>\n",
       "      <th>3</th>\n",
       "      <td>2</td>\n",
       "      <td>0</td>\n",
       "      <td>False</td>\n",
       "    </tr>\n",
       "    <tr>\n",
       "      <th>4</th>\n",
       "      <td>3</td>\n",
       "      <td>0</td>\n",
       "      <td>False</td>\n",
       "    </tr>\n",
       "  </tbody>\n",
       "</table>\n",
       "</div>"
      ],
      "text/plain": [
       "       numerosity  reliable  was_correct\n",
       "trial                                   \n",
       "0               1         0         True\n",
       "1               1         0        False\n",
       "2               2         0        False\n",
       "3               2         0        False\n",
       "4               3         0        False"
      ]
     },
     "execution_count": 14,
     "metadata": {},
     "output_type": "execute_result"
    }
   ],
   "source": [
    "# parse metrics to df\n",
    "df6bit = parse_metrics_to_df(m6)\n",
    "df11bit = parse_metrics_to_df(m11)\n",
    "df20bit = parse_metrics_to_df(m20)\n",
    "df37bit = parse_metrics_to_df(m37)\n",
    "\n",
    "df6bit.head()"
   ]
  },
  {
   "cell_type": "code",
   "execution_count": 37,
   "metadata": {},
   "outputs": [
    {
     "data": {
      "image/png": "[encoded data removed]",
      "text/plain": [
       "<Figure size 432x288 with 1 Axes>"
      ]
     },
     "metadata": {},
     "output_type": "display_data"
    }
   ],
   "source": [
    "import matplotlib\n",
    "import matplotlib.pyplot as plt\n",
    "import matplotlib.ticker as tkr\n",
    "\n",
    "# To avoid Type3 fonts in generated EPS file\n",
    "matplotlib.rcParams['pdf.fonttype'] = 42\n",
    "matplotlib.rcParams['ps.fonttype'] = 42\n",
    "\n",
    "window=10_000\n",
    "TOP_ROWS=1_000_000\n",
    "\n",
    "def divider(x, pos):\n",
    "    return x / 100_000\n",
    "\n",
    "fig, ax = plt.subplots()\n",
    "\n",
    "df6bit['reliable'].head(TOP_ROWS).rolling(window=window).mean().plot(color='#e41a1c', linewidth=1.0, ax=ax)\n",
    "ax.text(935_000, 5, '6-bit', color='#e41a1c')\n",
    "\n",
    "df11bit['reliable'].head(TOP_ROWS).rolling(window=window).mean().plot(color='#377eb8', linewidth=1.0, ax=ax)\n",
    "ax.text(935_000, 47, '11-bit', color='#377eb8')\n",
    "\n",
    "df20bit['reliable'].head(TOP_ROWS).rolling(window=window).mean().plot(color='#4daf4a', linewidth=1.0, ax=ax)\n",
    "ax.text(935_000, 85, '20-bit', color='#4daf4a')\n",
    "\n",
    "df37bit['reliable'].head(TOP_ROWS).rolling(window=window).mean().plot(color='#984ea3', linewidth=1.0, ax=ax)\n",
    "ax.text(935_000, 135, '37-bit', color='#984ea3')\n",
    "\n",
    "ax.set_xlabel('Trial (x 100 000)')\n",
    "ax.set_ylabel('Reliable classifiers')\n",
    "ax.xaxis.set_major_formatter(tkr.FuncFormatter(divider))\n",
    "ax.set_title(f'Number of reliable classifiers for boolean MPX.\\nResults averaged over {window} trials')\n",
    "# plt.show()\n",
    "\n",
    "plt.savefig('mpx.eps', format='eps', dpi=100)"
   ]
  }
 ],
 "metadata": {
  "kernelspec": {
   "display_name": "Python 3",
   "language": "python",
   "name": "python3"
  },
  "language_info": {
   "codemirror_mode": {
    "name": "ipython",
    "version": 3
   },
   "file_extension": ".py",
   "mimetype": "text/x-python",
   "name": "python",
   "nbconvert_exporter": "python",
   "pygments_lexer": "ipython3",
   "version": "3.6.4"
  }
 },
 "nbformat": 4,
 "nbformat_minor": 2
}
